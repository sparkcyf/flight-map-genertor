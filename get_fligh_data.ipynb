{
 "cells": [
  {
   "cell_type": "code",
   "execution_count": 21,
   "metadata": {},
   "outputs": [
    {
     "name": "stdout",
     "output_type": "stream",
     "text": [
      "[24.963333, 60.317222] Vantaa\n",
      "[103.989333, 1.359211] Changi International Airport\n",
      "[-118.408048, 33.942496] Los Angeles International Airport\n",
      "[151.177222, -33.94611] Kingsford Smith\n",
      "[-0.461388, 51.4775] Heathrow Airport\n",
      "[-79.630555, 43.676667] Lester B. Pearson International Airport\n",
      "[116.598, 40.073] Beijing Capital Airport\n",
      "[8.570456, 50.033306] Rhein-Main\n",
      "[55.364444, 25.252778] Dubai International Airport\n",
      "[121.793, 31.145] Pudong International Airport\n",
      "[113.812, 22.638] Shenzhen Bao'an International Airport\n"
     ]
    }
   ],
   "source": [
    "import requests\n",
    "from bs4 import BeautifulSoup\n",
    "import json\n",
    "import tqdm\n",
    "\n",
    "# 原始字符串\n",
    "flight_str = \"SZX-PEK-SZX,PVG-LAX,LAX-YYZ,YYZ-LHR,LHR-HEL,HEL-FRA,FRA-DXB,DXB-SYD,SYD-SIN,PEK-SZX\"\n",
    "\n",
    "# 步骤1: 解析航线字符串\n",
    "airport_codes = set(flight_str.replace('-', ',').split(','))\n",
    "\n",
    "# 步骤2: 获取机场位置\n",
    "def get_airport_location(code):\n",
    "    url = f\"http://www.gcmap.com/airport/{code}\"\n",
    "    response = requests.get(url)\n",
    "    if response.status_code == 200:\n",
    "        soup = BeautifulSoup(response.content, 'html.parser')\n",
    "        meta_tag = soup.find('meta', {'name': 'geo.position'}) # <meta name=\"geo.position\" content=\"22.638;113.812\">\n",
    "        # airport name <tr valign=top><td>Name:</td><td colspan=2 class=\"fn org\">Shenzhen Bao'an International Airport</td></tr>\n",
    "        airport_name = soup.find('td', {'class': 'fn org'})\n",
    "        if meta_tag:\n",
    "            #return meta_tag['content']\n",
    "            # return array like [113.812, 22.638]\n",
    "            coor_array = [float(x) for x in meta_tag['content'].split(';')]\n",
    "            # reverse the array\n",
    "            coor_array.reverse()\n",
    "            print(coor_array, airport_name.text)\n",
    "            return coor_array, airport_name.text\n",
    "    return None\n",
    "\n",
    "airport_locations = {code: get_airport_location(code) for code in airport_codes}\n",
    "\n",
    "# 步骤3: 创建JSON文件\n",
    "def create_json(flight_str, airport_locations):\n",
    "    flight_routes = flight_str.split(',')\n",
    "    route_info = []\n",
    "    for route in flight_routes:\n",
    "        airports = route.split('-')\n",
    "        for i in range(len(airports) - 1):\n",
    "            start, end = airports[i], airports[i + 1]\n",
    "            start_location, start_text = airport_locations[start]\n",
    "            end_location, end_text = airport_locations[end]\n",
    "            route_info.append({\n",
    "                \"start\": start,\n",
    "                \"end\": end,\n",
    "                \"start_location\": start_location,\n",
    "                \"end_location\": end_location,\n",
    "                \"start_text\": start_text,\n",
    "                \"end_text\": end_text,\n",
    "            })\n",
    "    return json.dumps(route_info, indent=4)\n",
    "\n",
    "# 结果\n",
    "flight_json = create_json(flight_str, airport_locations)\n",
    "\n",
    "\n"
   ]
  },
  {
   "cell_type": "code",
   "execution_count": 22,
   "metadata": {},
   "outputs": [],
   "source": [
    "# save to file\n",
    "with open('flight.json', 'w') as f:\n",
    "    f.write(flight_json)"
   ]
  }
 ],
 "metadata": {
  "kernelspec": {
   "display_name": "Python 3",
   "language": "python",
   "name": "python3"
  },
  "language_info": {
   "codemirror_mode": {
    "name": "ipython",
    "version": 3
   },
   "file_extension": ".py",
   "mimetype": "text/x-python",
   "name": "python",
   "nbconvert_exporter": "python",
   "pygments_lexer": "ipython3",
   "version": "3.11.4"
  }
 },
 "nbformat": 4,
 "nbformat_minor": 2
}
